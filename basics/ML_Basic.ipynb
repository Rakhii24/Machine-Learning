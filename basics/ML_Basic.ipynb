{
 "cells": [
  {
   "cell_type": "markdown",
   "metadata": {},
   "source": [
    "let's start from basics of python"
   ]
  },
  {
   "cell_type": "code",
   "execution_count": 1,
   "metadata": {},
   "outputs": [
    {
     "name": "stdout",
     "output_type": "stream",
     "text": [
      "My name is Rakhi Rajput and Roll no. is 38\n",
      "Hello guys\n",
      "0123456789\n",
      "\n",
      "12345678910\n",
      "\n",
      "Yep!!, ValueError is working correctly\n",
      "For addition both variables should be of same type\n",
      "Using ZeroDivisionError\n",
      "Cannot divide by Zero\n"
     ]
    }
   ],
   "source": [
    "# Let's start from basics of python\n",
    "\n",
    "def main ():\n",
    "    Basics()\n",
    "    exception_handling()\n",
    "\n",
    "def Basics():\n",
    "    name = \"Rakhi Rajput\"\n",
    "    roll = 38\n",
    "    print(f\"My name is {name} and Roll no. is {roll}\")\n",
    "\n",
    "# conditionals \n",
    "    x = \"Yes\"\n",
    "    if x == \"Yes\":\n",
    "        print(\"Hello guys\")\n",
    "\n",
    "# loops\n",
    "    for _ in range(10):\n",
    "        print(_, end=\"\")\n",
    "    x=1\n",
    "    print(\"\\n\")\n",
    "    while (x <= 10):\n",
    "        print(x, end=\"\")\n",
    "        x +=1\n",
    "\n",
    "    print(\"\\n\")\n",
    "\n",
    "def exception_handling():\n",
    "    \n",
    "    try:\n",
    "        no = int(input(\"Enter a char to see the error\"))\n",
    "    except ValueError:\n",
    "        print(\"Yep!!, ValueError is working correctly\")\n",
    "\n",
    "    x = 10\n",
    "    y = \"Hello\"\n",
    "    try:\n",
    "        ans = x + y \n",
    "    except TypeError:\n",
    "        print(\"For addition both variables should be of same type\")\n",
    "\n",
    "    try:\n",
    "        print(\"Using ZeroDivisionError\")\n",
    "        ans = x/0\n",
    "    except ZeroDivisionError:\n",
    "        print(\"Cannot divide by Zero\")\n",
    "\n",
    "# Other Errors\n",
    "# 2. TypeError: Raised when an operation or function is applied to an object of inappropriate type.\n",
    "# 3. IndexError: Raised when a sequence subscript is out of range.\n",
    "# 4. KeyError: Raised when a dictionary key is not found.\n",
    "# 5. AttributeError: Raised when an attribute reference or assignment fails.\n",
    "# 6. ImportError: Raised when an import statement fails to find the module definition or when a from ... import fails to find a name that is to be imported.\n",
    "# 7. IOError: Raised when an I/O operation (such as a file operation) fails.\n",
    "# 8. ZeroDivisionError: Raised when the second argument of a division or modulo operation is zero.\n",
    "# 9. FileNotFoundError: Raised when a file or directory is requested but doesn't exist.\n",
    "# 10. RuntimeError: Raised when an error is detected that doesn't fall in any of the other categories.\n",
    "\n",
    "\n",
    "\n",
    "if __name__ == \"__main__\":\n",
    "    main()"
   ]
  },
  {
   "cell_type": "markdown",
   "metadata": {},
   "source": [
    "Data Structures\n",
    "\n",
    "List[]"
   ]
  },
  {
   "cell_type": "code",
   "execution_count": 2,
   "metadata": {},
   "outputs": [
    {
     "name": "stdout",
     "output_type": "stream",
     "text": [
      "\n",
      "printing Using Loop\n",
      "om neha riya rohit| \n",
      "Printing Using *(asterisk)\n",
      "om, neha, riya, rohit|\n",
      "om, byee, neha, riya, rohit|, hello\n"
     ]
    }
   ],
   "source": [
    "names = [\"om\", \"neha\", \"riya\", \"rohit|\"]\n",
    "print(\"\\nprinting Using Loop\")\n",
    "for name in names:\n",
    "    print(name, end =\" \")\n",
    "print(\"\\nPrinting Using *(asterisk)\")\n",
    "print(*names, sep= \", \")\n",
    "\n",
    "# adding elements\n",
    "names.append(\"hello\")\n",
    "names.insert(1, \"byee\")\n",
    "# Added hello and byee\n",
    "print(*names, sep= \", \")"
   ]
  },
  {
   "cell_type": "code",
   "execution_count": 3,
   "metadata": {},
   "outputs": [
    {
     "name": "stdout",
     "output_type": "stream",
     "text": [
      "\n",
      " Popped last element and om\n",
      ", byee, neha, riya, rohit|\n",
      "\n",
      "removed byee \n",
      ", neha, riya, rohit|\n"
     ]
    }
   ],
   "source": [
    "# popping element\n",
    "names.pop()\n",
    "names.pop(0)\n",
    "\n",
    "print(\"\\n Popped last element and om\\n\",*names, sep= \", \")\n",
    "\n",
    "names.remove(\"byee\")\n",
    "print(\"\\nremoved byee \\n\",*names, sep= \", \")"
   ]
  },
  {
   "cell_type": "code",
   "execution_count": 4,
   "metadata": {},
   "outputs": [
    {
     "name": "stdout",
     "output_type": "stream",
     "text": [
      "\n",
      "Sorting\n",
      "neha, riya, rohit|\n"
     ]
    }
   ],
   "source": [
    "# Sorting\n",
    "print(\"\\nSorting\")\n",
    "names.sort() # names.sort(reverse=True) for desending order\n",
    "print(*names, sep= \", \")"
   ]
  },
  {
   "cell_type": "code",
   "execution_count": 5,
   "metadata": {},
   "outputs": [
    {
     "name": "stdout",
     "output_type": "stream",
     "text": [
      "\n",
      "Reversed list is\n",
      "rohit| riya neha\n"
     ]
    }
   ],
   "source": [
    "# reversing the string (not sorting)\n",
    "print(\"\\nReversed list is\")\n",
    "names.reverse()\n",
    "print(*names)"
   ]
  },
  {
   "cell_type": "code",
   "execution_count": 9,
   "metadata": {},
   "outputs": [
    {
     "name": "stdout",
     "output_type": "stream",
     "text": [
      "rohit| riya neha om Riya om omkar omkar omkar\n"
     ]
    }
   ],
   "source": [
    "# adding one list into other\n",
    "stud_name = [\"omkar\"]\n",
    "names.extend(stud_name)\n",
    "print(*names)"
   ]
  },
  {
   "cell_type": "code",
   "execution_count": 12,
   "metadata": {},
   "outputs": [
    {
     "name": "stdout",
     "output_type": "stream",
     "text": [
      "neha is at index: 2\n"
     ]
    }
   ],
   "source": [
    "# Finding Index\n",
    "print(\"neha is at index:\",names.index(\"neha\"))"
   ]
  },
  {
   "cell_type": "code",
   "execution_count": 13,
   "metadata": {},
   "outputs": [
    {
     "name": "stdout",
     "output_type": "stream",
     "text": [
      "1\n"
     ]
    }
   ],
   "source": [
    "# Counting specific element in list\n",
    "print(names.count(\"neha\"))"
   ]
  },
  {
   "cell_type": "code",
   "execution_count": 14,
   "metadata": {},
   "outputs": [
    {
     "name": "stdout",
     "output_type": "stream",
     "text": [
      "None\n"
     ]
    }
   ],
   "source": [
    "# Clearing the List\n",
    "print(names.clear())"
   ]
  },
  {
   "cell_type": "markdown",
   "metadata": {},
   "source": [
    "Dictionary{Key,Value}"
   ]
  },
  {
   "cell_type": "code",
   "execution_count": 15,
   "metadata": {},
   "outputs": [
    {
     "name": "stdout",
     "output_type": "stream",
     "text": [
      "{'Name': 'om', 'Roll No:': 45}\n"
     ]
    }
   ],
   "source": [
    "# get(): Returns the value for a specified key if the key is in the dictionary.\n",
    "dit = {\"Name\": \"om\", \"Roll No:\" : 45 }\n",
    "print(dit)"
   ]
  },
  {
   "cell_type": "code",
   "execution_count": 16,
   "metadata": {},
   "outputs": [
    {
     "name": "stdout",
     "output_type": "stream",
     "text": [
      "\n",
      "Printing using loops\n",
      "Name:om\n",
      "Roll No::45\n",
      "\n",
      "Printing Specific key, values\n",
      "keys are:dict_keys(['Name', 'Roll No:'])\n",
      "Values are:dict_values(['om', 45])\n"
     ]
    }
   ],
   "source": [
    "# printing using loops\n",
    "print(\"\\nPrinting using loops\")\n",
    "for key,value in dit.items():\n",
    "    print(f\"{key}:{value}\")\n",
    "\n",
    "print(\"\\nPrinting Specific key, values\")\n",
    "print(f\"keys are:{dit.keys()}\")\n",
    "print(f\"Values are:{dit.values()}\")"
   ]
  },
  {
   "cell_type": "code",
   "execution_count": 17,
   "metadata": {},
   "outputs": [
    {
     "name": "stdout",
     "output_type": "stream",
     "text": [
      "\n",
      "Printing Using list Comprension\n",
      "Name: om\n",
      "Roll No:: 45\n"
     ]
    }
   ],
   "source": [
    "# Using List Comprension\n",
    "print(\"\\nPrinting Using list Comprension\")\n",
    "print(\"\\n\".join([f\"{key}: {value}\" for key, value in dit.items()]))"
   ]
  },
  {
   "cell_type": "markdown",
   "metadata": {},
   "source": [
    "Tupple()"
   ]
  },
  {
   "cell_type": "markdown",
   "metadata": {},
   "source": [
    "Tuples in Python are immutable, so they have fewer methods compared to lists. However, there are still some common methods and operations that you can perform with tuples. Here are the most common ones:"
   ]
  },
  {
   "cell_type": "code",
   "execution_count": 18,
   "metadata": {},
   "outputs": [
    {
     "name": "stdout",
     "output_type": "stream",
     "text": [
      "1 2 3 om\n"
     ]
    }
   ],
   "source": [
    "tp = (1,2,3,\"om\")\n",
    "print(*tp)"
   ]
  },
  {
   "cell_type": "code",
   "execution_count": 19,
   "metadata": {},
   "outputs": [
    {
     "name": "stdout",
     "output_type": "stream",
     "text": [
      "om\n"
     ]
    }
   ],
   "source": [
    "# Accessing elements via index\n",
    "print(tp[3])"
   ]
  },
  {
   "cell_type": "code",
   "execution_count": 20,
   "metadata": {},
   "outputs": [
    {
     "name": "stdout",
     "output_type": "stream",
     "text": [
      "Elements at index 1-3 are: (2, 3, 'om')\n"
     ]
    }
   ],
   "source": [
    "# Slicing\n",
    "print(\"Elements at index 1-3 are:\",tp[1:4])"
   ]
  },
  {
   "cell_type": "code",
   "execution_count": 21,
   "metadata": {},
   "outputs": [
    {
     "name": "stdout",
     "output_type": "stream",
     "text": [
      "Length is: 4\n"
     ]
    }
   ],
   "source": [
    "# Length of tupple\n",
    "print(\"Length is:\",len(tp))\n"
   ]
  },
  {
   "cell_type": "code",
   "execution_count": 22,
   "metadata": {},
   "outputs": [
    {
     "name": "stdout",
     "output_type": "stream",
     "text": [
      "True\n"
     ]
    }
   ],
   "source": [
    "print(2 in tp)"
   ]
  },
  {
   "cell_type": "markdown",
   "metadata": {},
   "source": [
    "Unpacking: Assigning elements of a tuple to variables."
   ]
  },
  {
   "cell_type": "code",
   "execution_count": 23,
   "metadata": {},
   "outputs": [
    {
     "name": "stdout",
     "output_type": "stream",
     "text": [
      "First name: om , Surname: Desai\n"
     ]
    }
   ],
   "source": [
    "name = (\"om\", \"Desai\")\n",
    "first, last = name\n",
    "print(\"First name:\", first, \", Surname:\",last)"
   ]
  },
  {
   "cell_type": "code",
   "execution_count": 24,
   "metadata": {},
   "outputs": [
    {
     "name": "stdout",
     "output_type": "stream",
     "text": [
      "1\n"
     ]
    }
   ],
   "source": [
    "#  Count\n",
    "print(tp.count(2))"
   ]
  },
  {
   "cell_type": "markdown",
   "metadata": {},
   "source": [
    "Sets {}\n",
    "Sets in Python are unordered collections of unique elements.\n",
    "\n",
    "Repetition or same elements are removed autometically\n",
    "\n",
    "Add element in set"
   ]
  },
  {
   "cell_type": "code",
   "execution_count": 27,
   "metadata": {},
   "outputs": [
    {
     "name": "stdout",
     "output_type": "stream",
     "text": [
      "1 2 3\n",
      "1 2 3 4\n"
     ]
    }
   ],
   "source": [
    "set1 = {1,2,3}\n",
    "print(*set1)\n",
    "set1.add(4)\n",
    "print(*set1)"
   ]
  },
  {
   "cell_type": "markdown",
   "metadata": {},
   "source": [
    "Remove using remove(), it gives error if element is not found"
   ]
  },
  {
   "cell_type": "code",
   "execution_count": 28,
   "metadata": {},
   "outputs": [
    {
     "name": "stdout",
     "output_type": "stream",
     "text": [
      "1 3 4\n"
     ]
    }
   ],
   "source": [
    "set1.remove(2)\n",
    "print(*set1)"
   ]
  },
  {
   "cell_type": "markdown",
   "metadata": {},
   "source": [
    "popping an arbitary element"
   ]
  },
  {
   "cell_type": "code",
   "execution_count": 29,
   "metadata": {},
   "outputs": [
    {
     "data": {
      "text/plain": [
       "{3, 4}"
      ]
     },
     "execution_count": 29,
     "metadata": {},
     "output_type": "execute_result"
    }
   ],
   "source": [
    "set1.pop()\n",
    "set1"
   ]
  },
  {
   "cell_type": "markdown",
   "metadata": {},
   "source": [
    "Union, intersection, difference, symmetric difference, is upperset, is disjoint set\n",
    "\n",
    "difference() returns a new set with elements in the set that are not in the others.\n",
    "\n",
    "super subset: set A is considered a superset of set B if all elements of B are also elements of A.\n",
    "\n",
    "disjoint() : it returns True if no elements are common else False"
   ]
  },
  {
   "cell_type": "code",
   "execution_count": 30,
   "metadata": {},
   "outputs": [
    {
     "name": "stdout",
     "output_type": "stream",
     "text": [
      "union is {1, 2, 3, 4, 5}\n",
      "intersection is: {1, 2, 3}\n",
      "Difference : {4, 5}\n",
      "Symmetric Difference is: {4, 5}\n",
      "Is set2 subset of set3:  True\n",
      "Is set2 super subset of set3:  False\n",
      "Is set2 disjoint of set3:  False\n"
     ]
    }
   ],
   "source": [
    "set2 = {1,2,3}\n",
    "set3 = {1,2,3,4,5}\n",
    "print(\"union is\",set2.union(set3))\n",
    "\n",
    "print(\"intersection is:\",set2.intersection(set3))\n",
    " \n",
    "print(\"Difference :\",set3.difference(set2) )\n",
    "\n",
    "print(\"Symmetric Difference is:\",set2.symmetric_difference(set3) )\n",
    "\n",
    "print(\"Is set2 subset of set3: \",set2.issubset(set3))\n",
    "\n",
    "print(\"Is set2 super subset of set3: \",set2.issuperset(set3))\n",
    "\n",
    "print(\"Is set2 disjoint of set3: \",set2.isdisjoint(set3))"
   ]
  },
  {
   "cell_type": "markdown",
   "metadata": {},
   "source": [
    "Stack (LIFO)\n",
    "using list\n",
    "It has T.C = O(n) for appending and popping"
   ]
  },
  {
   "cell_type": "code",
   "execution_count": 31,
   "metadata": {},
   "outputs": [
    {
     "data": {
      "text/plain": [
       "[10, 100, 110]"
      ]
     },
     "execution_count": 31,
     "metadata": {},
     "output_type": "execute_result"
    }
   ],
   "source": [
    "#  Adding values\n",
    "\n",
    "stack1 = []\n",
    "stack1.append(10)\n",
    "stack1.append(100)\n",
    "stack1.append(110)\n",
    "\n",
    "stack1"
   ]
  },
  {
   "cell_type": "code",
   "execution_count": 32,
   "metadata": {},
   "outputs": [
    {
     "data": {
      "text/plain": [
       "[10, 100]"
      ]
     },
     "execution_count": 32,
     "metadata": {},
     "output_type": "execute_result"
    }
   ],
   "source": [
    "# popping last elements\n",
    "\n",
    "stack1.pop()\n",
    "stack1"
   ]
  },
  {
   "cell_type": "code",
   "execution_count": 33,
   "metadata": {},
   "outputs": [
    {
     "name": "stdout",
     "output_type": "stream",
     "text": [
      "100\n"
     ]
    }
   ],
   "source": [
    "# Peeking\n",
    "\n",
    "print(stack1[1])"
   ]
  },
  {
   "cell_type": "code",
   "execution_count": 34,
   "metadata": {},
   "outputs": [
    {
     "name": "stdout",
     "output_type": "stream",
     "text": [
      "2\n"
     ]
    }
   ],
   "source": [
    "#  size\n",
    "\n",
    "print(len(stack1))"
   ]
  },
  {
   "cell_type": "markdown",
   "metadata": {},
   "source": [
    "using dequeu from collectiom\n",
    "It has T.C = O(1) for appending and popping better than using list"
   ]
  },
  {
   "cell_type": "code",
   "execution_count": 35,
   "metadata": {},
   "outputs": [
    {
     "name": "stdout",
     "output_type": "stream",
     "text": [
      "10 20 30 40\n"
     ]
    }
   ],
   "source": [
    "from collections import deque\n",
    "\n",
    "stack2 = deque()\n",
    "\n",
    "stack2.append(10)\n",
    "stack2.append(20)\n",
    "stack2.append(30)\n",
    "stack2.append(40)\n",
    "\n",
    "print(*stack2)"
   ]
  },
  {
   "cell_type": "code",
   "execution_count": 36,
   "metadata": {},
   "outputs": [
    {
     "data": {
      "text/plain": [
       "40"
      ]
     },
     "execution_count": 36,
     "metadata": {},
     "output_type": "execute_result"
    }
   ],
   "source": [
    "stack2.pop() # pop rightmost or last in element"
   ]
  },
  {
   "cell_type": "code",
   "execution_count": 37,
   "metadata": {},
   "outputs": [
    {
     "data": {
      "text/plain": [
       "deque([30, 10, 20])"
      ]
     },
     "execution_count": 37,
     "metadata": {},
     "output_type": "execute_result"
    }
   ],
   "source": [
    "stack2.rotate()\n",
    "stack2"
   ]
  },
  {
   "cell_type": "markdown",
   "metadata": {},
   "source": [
    "from queue import LifoQueue\n",
    "cannot view ele directly"
   ]
  },
  {
   "cell_type": "code",
   "execution_count": 38,
   "metadata": {},
   "outputs": [
    {
     "name": "stdout",
     "output_type": "stream",
     "text": [
      "0\n",
      "size is: 1 3\n",
      "110\n",
      "120\n"
     ]
    }
   ],
   "source": [
    "from queue import LifoQueue\n",
    "\n",
    "stack3 = LifoQueue(maxsize= 3)\n",
    "\n",
    "print(stack3.qsize())\n",
    "\n",
    "stack3.put(10)\n",
    "stack3.put(120)\n",
    "stack3.put(110)\n",
    "\n",
    "print(\"size is: 1\",stack3.qsize())\n",
    "\n",
    "print(stack3.get())\n",
    "print(stack3.get())"
   ]
  },
  {
   "cell_type": "markdown",
   "metadata": {},
   "source": [
    "Queue\n",
    "\n",
    "Using list similar to Stack using list\n",
    "Difference is we always pop(0)\n",
    "\n",
    "using dque similar to stack\n",
    "Difference is we always popleft()\n",
    "from queue import Queue"
   ]
  },
  {
   "cell_type": "code",
   "execution_count": 39,
   "metadata": {},
   "outputs": [
    {
     "name": "stdout",
     "output_type": "stream",
     "text": [
      "0\n",
      "\n",
      "Full:  True\n",
      "\n",
      "Elements dequeued from the queue\n",
      "a\n",
      "b\n",
      "c\n",
      "\n",
      "Empty:  True\n",
      "\n",
      "Empty:  False\n",
      "Full:  False\n"
     ]
    }
   ],
   "source": [
    "from queue import Queue\n",
    "q = Queue(maxsize = 3)\n",
    "print(q.qsize()) \n",
    "q.put('a')\n",
    "q.put('b')\n",
    "q.put('c')\n",
    "print(\"\\nFull: \", q.full()) \n",
    "print(\"\\nElements dequeued from the queue\")\n",
    "print(q.get())\n",
    "print(q.get())\n",
    "print(q.get())\n",
    "\n",
    "print(\"\\nEmpty: \", q.empty())\n",
    "q.put(1)\n",
    "\n",
    "print(\"\\nEmpty: \", q.empty()) \n",
    "\n",
    "print(\"Full: \", q.full())"
   ]
  },
  {
   "cell_type": "code",
   "execution_count": 41,
   "metadata": {},
   "outputs": [
    {
     "name": "stdout",
     "output_type": "stream",
     "text": [
      "30 -> 20 -> 10 -> None\n",
      "Top element is: 30\n",
      "Popped element is: 30\n",
      "20 -> 10 -> None\n"
     ]
    }
   ],
   "source": [
    "\n",
    "class Node:\n",
    "    def __init__(self, data):\n",
    "        self.data = data\n",
    "        self.next = None\n",
    "\n",
    "class Stack:\n",
    "    def __init__(self):\n",
    "        self.head = None\n",
    "\n",
    "    def is_empty(self):\n",
    "        return self.head is None\n",
    "\n",
    "    def push(self, data):\n",
    "        new_node = Node(data)\n",
    "        new_node.next = self.head\n",
    "        self.head = new_node\n",
    "\n",
    "    def pop(self):\n",
    "        if self.is_empty():\n",
    "            return None\n",
    "        popped_node = self.head\n",
    "        self.head = self.head.next\n",
    "        return popped_node.data\n",
    "\n",
    "    def peek(self):\n",
    "        if self.is_empty():\n",
    "            return None\n",
    "        return self.head.data\n",
    "\n",
    "    def display(self):\n",
    "        current = self.head\n",
    "        while current:\n",
    "            print(current.data, end=\" -> \")\n",
    "            current = current.next\n",
    "        print(\"None\")\n",
    "\n",
    "# Example usage\n",
    "stack = Stack()\n",
    "stack.push(10)\n",
    "stack.push(20)\n",
    "stack.push(30)\n",
    "stack.display()  # Output: 30 -> 20 -> 10 -> None\n",
    "print(\"Top element is:\", stack.peek())  # Output: Top element is: 30\n",
    "print(\"Popped element is:\", stack.pop())  # Output: Popped element is: 30\n",
    "stack.display()  # Output: 20 -> 10 -> None"
   ]
  },
  {
   "cell_type": "code",
   "execution_count": 43,
   "metadata": {},
   "outputs": [
    {
     "name": "stdout",
     "output_type": "stream",
     "text": [
      "10 -> 20 -> 30 -> None\n",
      "Front element is: 10\n",
      "Dequeued element is: 10\n",
      "20 -> 30 -> None\n"
     ]
    }
   ],
   "source": [
    "# for queue\n",
    "class Node:\n",
    "    def __init__(self, data):\n",
    "        self.data = data\n",
    "        self.next = None\n",
    "\n",
    "class Queue:\n",
    "    def __init__(self):\n",
    "        self.front = None\n",
    "        self.rear = None\n",
    "\n",
    "    def is_empty(self):\n",
    "        return self.front is None\n",
    "\n",
    "    def enqueue(self, data):\n",
    "        new_node = Node(data)\n",
    "        if self.rear is None:\n",
    "            self.front = self.rear = new_node\n",
    "            return\n",
    "        self.rear.next = new_node\n",
    "        self.rear = new_node\n",
    "\n",
    "    def dequeue(self):\n",
    "        if self.is_empty():\n",
    "            return None\n",
    "        dequeued_node = self.front\n",
    "        self.front = self.front.next\n",
    "        if self.front is None:\n",
    "            self.rear = None\n",
    "        return dequeued_node.data\n",
    "\n",
    "    def peek(self):\n",
    "        if self.is_empty():\n",
    "            return None\n",
    "        return self.front.data\n",
    "\n",
    "    def display(self):\n",
    "        current = self.front\n",
    "        while current:\n",
    "            print(current.data, end=\" -> \")\n",
    "            current = current.next\n",
    "        print(\"None\")\n",
    "\n",
    "# Example usage\n",
    "queue = Queue()\n",
    "queue.enqueue(10)\n",
    "queue.enqueue(20)\n",
    "queue.enqueue(30)\n",
    "queue.display()  # Output: 10 -> 20 -> 30 -> None\n",
    "print(\"Front element is:\", queue.peek())  # Output: Front element is: 10\n",
    "print(\"Dequeued element is:\", queue.dequeue())  # Output: Dequeued element is: 10\n",
    "queue.display()  # Output: 20 -> 30 -> None"
   ]
  },
  {
   "cell_type": "markdown",
   "metadata": {},
   "source": [
    "File Handling"
   ]
  },
  {
   "cell_type": "code",
   "execution_count": 44,
   "metadata": {},
   "outputs": [],
   "source": [
    "with open(\"newdata.txt\",\"w\") as file:\n",
    "    file.write(\"Hello, this is om desai\")\n"
   ]
  },
  {
   "cell_type": "code",
   "execution_count": 45,
   "metadata": {},
   "outputs": [
    {
     "name": "stdout",
     "output_type": "stream",
     "text": [
      "Hello, this is om desai\n"
     ]
    }
   ],
   "source": [
    "with open(\"newdata.txt\", \"r\") as file:\n",
    "    content = file.read()\n",
    "    print(content)"
   ]
  },
  {
   "cell_type": "code",
   "execution_count": 46,
   "metadata": {},
   "outputs": [
    {
     "name": "stdout",
     "output_type": "stream",
     "text": [
      "\"Hello, this is om desai\"\n"
     ]
    }
   ],
   "source": [
    "import json\n",
    "\n",
    "# Read data from the file\n",
    "with open('newdata.txt', 'r') as file:\n",
    "    data = file.read()\n",
    "\n",
    "# Convert the data to JSON format\n",
    "data_json = json.dumps(data)\n",
    "\n",
    "# Print the JSON data\n",
    "print(data_json)"
   ]
  },
  {
   "cell_type": "markdown",
   "metadata": {},
   "source": [
    "Numpy\n",
    "\n",
    ".It is python library used for numerical computing, providing support for multidimensional arrays.\n",
    "\n",
    ".Numpy uses less memory.\n",
    "\n",
    ".Better for data preprocessing.\n",
    "\n",
    ".It stores data in contiguous space, which makes it efficient in computations.\n",
    "\n",
    "dtype: int\n",
    "\n",
    ". 32-bit Integer Range: -2,147,483,648 to 2,147,483,647.\n",
    "\n",
    ". 64-bit Integer Range: -9,223,372,036,854,775,808 to 9,223,372,036,854,775,807.\n",
    "\n",
    "float\n",
    "\n",
    ".32-bit Float Range: Approximately -3.4e38 to 3.4e38. Precision: 7 decimal places.\n",
    "\n",
    ".64-bit Float Range: Approximately -1.8e308 to 1.8e308. Precision: 15 decimal places.\n",
    "\n",
    "Axis\n",
    "\n",
    ". 1D array = 1 axis\n",
    "\n",
    ". 2D array = 2 axis (1 = horizontal, 0 = vertical)\n",
    "\n",
    ". 3D array = 3 axis (1 = horizontal, 0 = vertical, 2 = )\n"
   ]
  },
  {
   "cell_type": "code",
   "execution_count": 47,
   "metadata": {},
   "outputs": [
    {
     "name": "stdout",
     "output_type": "stream",
     "text": [
      "1D array is: [1 2 3]\n",
      "2D array is: [[1 2 3]\n",
      " [4 5 6]]\n",
      "3D array is:\n",
      " [[[1 2 3]\n",
      "  [4 5 6]\n",
      "  [7 8 9]]]\n",
      "1D array is: [1. 2. 3.]\n"
     ]
    }
   ],
   "source": [
    "import numpy as np \n",
    "array1 = np.array([1,2,3], dtype= np.int32)\n",
    "print(\"1D array is:\", array1)\n",
    "array2 = np.array([[1,2,3],[4,5,6]], dtype= np.int32)\n",
    "print(\"2D array is:\", array2)\n",
    "array3 = np.array([[[1,2,3],[4,5,6],[7,8,9]]], dtype= np.int32)\n",
    "print(\"3D array is:\\n\", array3)\n",
    "\n",
    "# Float\n",
    "\n",
    "array4 = np.array([1,2,3], dtype= np.float32)\n",
    "print(\"1D array is:\", array4)"
   ]
  },
  {
   "cell_type": "code",
   "execution_count": 48,
   "metadata": {},
   "outputs": [
    {
     "name": "stdout",
     "output_type": "stream",
     "text": [
      "dytpe of array1: int32\n",
      "Shape of array1: (3,)\n",
      "size of array1: 3\n"
     ]
    }
   ],
   "source": [
    "# Steps for all info about arrays\n",
    "print(\"dytpe of array1:\",array1.dtype)\n",
    "print(\"Shape of array1:\",array1.shape)\n",
    "print(\"size of array1:\",array1.size)\n"
   ]
  },
  {
   "cell_type": "code",
   "execution_count": 49,
   "metadata": {},
   "outputs": [
    {
     "name": "stdout",
     "output_type": "stream",
     "text": [
      "Boolean array is: [ True False  True False]\n"
     ]
    }
   ],
   "source": [
    "# Boolean\n",
    "bol = np.array([True, False, True, False], dtype=np.bool_)\n",
    "print(\"Boolean array is:\", bol)"
   ]
  },
  {
   "cell_type": "code",
   "execution_count": 50,
   "metadata": {},
   "outputs": [
    {
     "name": "stdout",
     "output_type": "stream",
     "text": [
      "String array is: ['apple' 'banana' 'grapes']\n",
      "object Array is: [True 1 'Apple']\n"
     ]
    }
   ],
   "source": [
    "# String & object \n",
    "\n",
    "\n",
    "strr = np.array([\"apple\", \"banana\", \"grapes\"], dtype=np.str_)\n",
    "print(\"String array is:\", strr)\n",
    "\n",
    "objectt = np.array([True,1, \"Apple\"], dtype=np.object_)\n",
    "print(\"object Array is:\",objectt)"
   ]
  },
  {
   "cell_type": "code",
   "execution_count": 51,
   "metadata": {},
   "outputs": [
    {
     "name": "stdout",
     "output_type": "stream",
     "text": [
      "[1 2 3]\n",
      "after changing value [4 2 3]\n",
      "[[1 2 3]\n",
      " [4 5 6]]\n",
      "After changing values\n",
      " [[1 4 3]\n",
      " [4 5 6]]\n"
     ]
    }
   ],
   "source": [
    "# changing elements\n",
    "print(array1)\n",
    "array1[0] = 4\n",
    "print(\"after changing value\",array1)\n",
    "\n",
    "# for 2D\n",
    "array2 = np.array([[1,2,3],[4,5,6]], dtype= np.int32)\n",
    "print(array2)\n",
    "array2[0,1] =4 #arr[row, column]\n",
    "print(\"After changing values\\n\",array2) "
   ]
  },
  {
   "cell_type": "code",
   "execution_count": 52,
   "metadata": {},
   "outputs": [
    {
     "name": "stdout",
     "output_type": "stream",
     "text": [
      "arange() is similar to range():\n",
      " [0 1 2 3 4 5 6 7 8 9]\n",
      "\n",
      "array of zero\n",
      " [[0 0 0 0 0]\n",
      " [0 0 0 0 0]]\n",
      "\n",
      "Array of 1's:\n",
      " [[1 1 1 1 1 1]\n",
      " [1 1 1 1 1 1]]\n",
      "\n",
      "Identity matrix is:\n",
      " [[1. 0.]\n",
      " [0. 1.]]\n",
      "\n",
      "Linespace will cerate no of elements (start, end, elements) with same spacing:\n",
      " [2.  2.5 3. ]\n",
      "\n",
      "Create an of given shape and pupulate it within range(0-1):\n",
      " [[0.76411368 0.40213337 0.86372334]\n",
      " [0.91463088 0.62552251 0.31661902]\n",
      " [0.87451095 0.38224801 0.75459618]]\n",
      "\n",
      "Create an of given shape and pupulate it with standard normal distribution:\n",
      " [[-0.00532203 -0.49255232 -1.15273682]\n",
      " [ 2.08758115 -1.14599487  1.48867825]\n",
      " [-0.80290851 -0.72014693 -2.29820875]]\n",
      "Sum of all elements in array 2.0\n",
      "Mean of all elements in array 0.5\n"
     ]
    }
   ],
   "source": [
    "# functions\n",
    "arangee = np.arange(10)\n",
    "print(\"arange() is similar to range():\\n\",arangee) \n",
    "\n",
    "zero_arr = np.zeros((2,5), dtype= np.int32) \n",
    "print(\"\\narray of zero\\n\",zero_arr)\n",
    "\n",
    "one = np.ones((2,6), dtype = np.int32)\n",
    "print(\"\\nArray of 1's:\\n\",one)\n",
    "\n",
    "identity = np.eye(2)\n",
    "print(\"\\nIdentity matrix is:\\n\",identity)\n",
    "\n",
    "line_space = np.linspace(2, 3, 3)\n",
    "print(\"\\nLinespace will cerate no of elements (start, end, elements) with same spacing:\\n\",line_space)\n",
    "\n",
    "arr = np.random.rand(3, 3)\n",
    "print(\"\\nCreate an of given shape and pupulate it within range(0-1):\\n\",arr)\n",
    "\n",
    "arr = np.random.randn(3, 3)\n",
    "print(\"\\nCreate an of given shape and pupulate it with standard normal distribution:\\n\",arr)\n",
    "\n",
    "total = np.sum(identity) # we can specify axis too\n",
    "print(\"Sum of all elements in array\",total)\n",
    "\n",
    "total = np.mean(identity) # we can specify axis too\n",
    "print(\"Mean of all elements in array\",total)"
   ]
  },
  {
   "cell_type": "code",
   "execution_count": 53,
   "metadata": {},
   "outputs": [
    {
     "name": "stdout",
     "output_type": "stream",
     "text": [
      "arange() is similar to range():\n",
      " [0 1 2 3 4 5 6 7 8 9]\n",
      "\n",
      "array of zero\n",
      " [[0 0 0 0 0]\n",
      " [0 0 0 0 0]]\n",
      "\n",
      "Array of 1's:\n",
      " [[1 1 1 1 1 1]\n",
      " [1 1 1 1 1 1]]\n",
      "\n",
      "Identity matrix is:\n",
      " [[1. 0.]\n",
      " [0. 1.]]\n",
      "\n",
      "Linespace will cerate no of elements (start, end, elements) with same spacing:\n",
      " [2.  2.5 3. ]\n",
      "\n",
      "Create an of given shape and pupulate it within range(0-1):\n",
      " [[0.78551262 0.22533944 0.19914301]\n",
      " [0.89550453 0.03081036 0.37293861]\n",
      " [0.90537151 0.13371815 0.41151668]]\n",
      "\n",
      "Create an of given shape and pupulate it with standard normal distribution:\n",
      " [[-0.04040196 -0.71659478 -1.48631012]\n",
      " [ 0.1532521   0.83037025 -0.51334103]\n",
      " [-0.91878303 -0.95968578 -0.39481182]]\n",
      "Sum of all elements in array 2.0\n",
      "Mean of all elements in array 0.5\n"
     ]
    }
   ],
   "source": [
    "# functions\n",
    "arangee = np.arange(10)\n",
    "print(\"arange() is similar to range():\\n\",arangee) \n",
    "\n",
    "zero_arr = np.zeros((2,5), dtype= np.int32) \n",
    "print(\"\\narray of zero\\n\",zero_arr)\n",
    "\n",
    "one = np.ones((2,6), dtype = np.int32)\n",
    "print(\"\\nArray of 1's:\\n\",one)\n",
    "\n",
    "identity = np.eye(2)\n",
    "print(\"\\nIdentity matrix is:\\n\",identity)\n",
    "\n",
    "line_space = np.linspace(2, 3, 3)\n",
    "print(\"\\nLinespace will cerate no of elements (start, end, elements) with same spacing:\\n\",line_space)\n",
    "\n",
    "arr = np.random.rand(3, 3)\n",
    "print(\"\\nCreate an of given shape and pupulate it within range(0-1):\\n\",arr)\n",
    "\n",
    "arr = np.random.randn(3, 3)\n",
    "print(\"\\nCreate an of given shape and pupulate it with standard normal distribution:\\n\",arr)\n",
    "\n",
    "total = np.sum(identity) # we can specify axis too\n",
    "print(\"Sum of all elements in array\",total)\n",
    "\n",
    "total = np.mean(identity) # we can specify axis too\n",
    "print(\"Mean of all elements in array\",total)"
   ]
  },
  {
   "cell_type": "code",
   "execution_count": 55,
   "metadata": {},
   "outputs": [
    {
     "name": "stdout",
     "output_type": "stream",
     "text": [
      "[[1 4 3]\n",
      " [4 5 6]]\n",
      "shape (2, 3)\n",
      "data type int32\n",
      "Size 6\n",
      "no of dimensions 2\n",
      "No of bytes consumed 24\n"
     ]
    }
   ],
   "source": [
    "# Attributes\n",
    "print(array2)\n",
    "print(\"shape\",array2.shape)\n",
    "print(\"data type\",array2.dtype)\n",
    "print(\"Size\",array2.size)\n",
    "print(\"no of dimensions\",array2.ndim)\n",
    "print(\"No of bytes consumed\",array2.nbytes)"
   ]
  },
  {
   "cell_type": "markdown",
   "metadata": {},
   "source": [
    "Pandas"
   ]
  },
  {
   "cell_type": "code",
   "execution_count": 56,
   "metadata": {},
   "outputs": [
    {
     "name": "stdout",
     "output_type": "stream",
     "text": [
      "   Names      City\n",
      "0  rohit  Kolhapur\n",
      "1    raj  Kolhapur\n",
      "2   neha  Kolhapur\n",
      "3     om    Satara\n",
      "4  tejas    sangli\n",
      "5  mohit      Pune\n",
      "6    NaN       NaN\n"
     ]
    }
   ],
   "source": [
    "import pandas as pd\n",
    "\n",
    "data ={\n",
    "    \"Names\" :[\"rohit\",\"raj\",\"neha\",\"om\",\"tejas\",\"mohit\",pd.NA],\n",
    "    \"City\" : [\"Kolhapur\",\"Kolhapur\",\"Kolhapur\",\"Satara\",\"sangli\",\"Pune\",pd.NA]\n",
    "}\n",
    "\n",
    "\n",
    "df = pd.DataFrame(data)\n",
    "\n",
    "df.to_csv(\"StudetInfo.csv\",index = False)\n",
    "read_df = pd.read_csv(\"StudetInfo.csv\")\n",
    "print(read_df)"
   ]
  },
  {
   "cell_type": "code",
   "execution_count": 57,
   "metadata": {},
   "outputs": [
    {
     "name": "stdout",
     "output_type": "stream",
     "text": [
      "\n",
      "Description is:\n",
      "         Names      City\n",
      "count       6         6\n",
      "unique      6         4\n",
      "top     rohit  Kolhapur\n",
      "freq        1         3\n"
     ]
    }
   ],
   "source": [
    "print(\"\\nDescription is:\\n\",read_df.describe())\n"
   ]
  },
  {
   "cell_type": "code",
   "execution_count": 58,
   "metadata": {},
   "outputs": [
    {
     "name": "stdout",
     "output_type": "stream",
     "text": [
      "<class 'pandas.core.frame.DataFrame'>\n",
      "RangeIndex: 7 entries, 0 to 6\n",
      "Data columns (total 2 columns):\n",
      " #   Column  Non-Null Count  Dtype \n",
      "---  ------  --------------  ----- \n",
      " 0   Names   6 non-null      object\n",
      " 1   City    6 non-null      object\n",
      "dtypes: object(2)\n",
      "memory usage: 244.0+ bytes\n",
      "None\n"
     ]
    }
   ],
   "source": [
    "\n",
    "print(read_df.info())"
   ]
  },
  {
   "cell_type": "code",
   "execution_count": 59,
   "metadata": {},
   "outputs": [
    {
     "data": {
      "text/html": [
       "<div>\n",
       "<style scoped>\n",
       "    .dataframe tbody tr th:only-of-type {\n",
       "        vertical-align: middle;\n",
       "    }\n",
       "\n",
       "    .dataframe tbody tr th {\n",
       "        vertical-align: top;\n",
       "    }\n",
       "\n",
       "    .dataframe thead th {\n",
       "        text-align: right;\n",
       "    }\n",
       "</style>\n",
       "<table border=\"1\" class=\"dataframe\">\n",
       "  <thead>\n",
       "    <tr style=\"text-align: right;\">\n",
       "      <th></th>\n",
       "      <th>Names</th>\n",
       "      <th>City</th>\n",
       "    </tr>\n",
       "  </thead>\n",
       "  <tbody>\n",
       "    <tr>\n",
       "      <th>0</th>\n",
       "      <td>rohit</td>\n",
       "      <td>Kolhapur</td>\n",
       "    </tr>\n",
       "    <tr>\n",
       "      <th>1</th>\n",
       "      <td>raj</td>\n",
       "      <td>Kolhapur</td>\n",
       "    </tr>\n",
       "    <tr>\n",
       "      <th>2</th>\n",
       "      <td>neha</td>\n",
       "      <td>Kolhapur</td>\n",
       "    </tr>\n",
       "    <tr>\n",
       "      <th>3</th>\n",
       "      <td>om</td>\n",
       "      <td>Satara</td>\n",
       "    </tr>\n",
       "    <tr>\n",
       "      <th>4</th>\n",
       "      <td>tejas</td>\n",
       "      <td>sangli</td>\n",
       "    </tr>\n",
       "  </tbody>\n",
       "</table>\n",
       "</div>"
      ],
      "text/plain": [
       "   Names      City\n",
       "0  rohit  Kolhapur\n",
       "1    raj  Kolhapur\n",
       "2   neha  Kolhapur\n",
       "3     om    Satara\n",
       "4  tejas    sangli"
      ]
     },
     "execution_count": 59,
     "metadata": {},
     "output_type": "execute_result"
    }
   ],
   "source": [
    "\n",
    "read_df.head()"
   ]
  },
  {
   "cell_type": "code",
   "execution_count": 60,
   "metadata": {},
   "outputs": [
    {
     "data": {
      "text/html": [
       "<div>\n",
       "<style scoped>\n",
       "    .dataframe tbody tr th:only-of-type {\n",
       "        vertical-align: middle;\n",
       "    }\n",
       "\n",
       "    .dataframe tbody tr th {\n",
       "        vertical-align: top;\n",
       "    }\n",
       "\n",
       "    .dataframe thead th {\n",
       "        text-align: right;\n",
       "    }\n",
       "</style>\n",
       "<table border=\"1\" class=\"dataframe\">\n",
       "  <thead>\n",
       "    <tr style=\"text-align: right;\">\n",
       "      <th></th>\n",
       "      <th>Names</th>\n",
       "      <th>City</th>\n",
       "    </tr>\n",
       "  </thead>\n",
       "  <tbody>\n",
       "    <tr>\n",
       "      <th>5</th>\n",
       "      <td>mohit</td>\n",
       "      <td>Pune</td>\n",
       "    </tr>\n",
       "    <tr>\n",
       "      <th>6</th>\n",
       "      <td>NaN</td>\n",
       "      <td>NaN</td>\n",
       "    </tr>\n",
       "  </tbody>\n",
       "</table>\n",
       "</div>"
      ],
      "text/plain": [
       "   Names  City\n",
       "5  mohit  Pune\n",
       "6    NaN   NaN"
      ]
     },
     "execution_count": 60,
     "metadata": {},
     "output_type": "execute_result"
    }
   ],
   "source": [
    "\n",
    "read_df.tail(2)"
   ]
  },
  {
   "cell_type": "code",
   "execution_count": 61,
   "metadata": {},
   "outputs": [
    {
     "data": {
      "text/html": [
       "<div>\n",
       "<style scoped>\n",
       "    .dataframe tbody tr th:only-of-type {\n",
       "        vertical-align: middle;\n",
       "    }\n",
       "\n",
       "    .dataframe tbody tr th {\n",
       "        vertical-align: top;\n",
       "    }\n",
       "\n",
       "    .dataframe thead th {\n",
       "        text-align: right;\n",
       "    }\n",
       "</style>\n",
       "<table border=\"1\" class=\"dataframe\">\n",
       "  <thead>\n",
       "    <tr style=\"text-align: right;\">\n",
       "      <th></th>\n",
       "      <th>Names</th>\n",
       "      <th>City</th>\n",
       "    </tr>\n",
       "  </thead>\n",
       "  <tbody>\n",
       "    <tr>\n",
       "      <th>0</th>\n",
       "      <td>rohit</td>\n",
       "      <td>Kolhapur</td>\n",
       "    </tr>\n",
       "    <tr>\n",
       "      <th>1</th>\n",
       "      <td>raj</td>\n",
       "      <td>Kolhapur</td>\n",
       "    </tr>\n",
       "    <tr>\n",
       "      <th>2</th>\n",
       "      <td>neha</td>\n",
       "      <td>Kolhapur</td>\n",
       "    </tr>\n",
       "    <tr>\n",
       "      <th>3</th>\n",
       "      <td>om</td>\n",
       "      <td>Satara</td>\n",
       "    </tr>\n",
       "    <tr>\n",
       "      <th>5</th>\n",
       "      <td>mohit</td>\n",
       "      <td>Pune</td>\n",
       "    </tr>\n",
       "    <tr>\n",
       "      <th>6</th>\n",
       "      <td>NaN</td>\n",
       "      <td>NaN</td>\n",
       "    </tr>\n",
       "  </tbody>\n",
       "</table>\n",
       "</div>"
      ],
      "text/plain": [
       "   Names      City\n",
       "0  rohit  Kolhapur\n",
       "1    raj  Kolhapur\n",
       "2   neha  Kolhapur\n",
       "3     om    Satara\n",
       "5  mohit      Pune\n",
       "6    NaN       NaN"
      ]
     },
     "execution_count": 61,
     "metadata": {},
     "output_type": "execute_result"
    }
   ],
   "source": [
    "\n",
    "read_df.drop([4],axis = 0)"
   ]
  },
  {
   "cell_type": "code",
   "execution_count": 62,
   "metadata": {},
   "outputs": [
    {
     "data": {
      "text/plain": [
       "Names    1\n",
       "City     1\n",
       "dtype: int64"
      ]
     },
     "execution_count": 62,
     "metadata": {},
     "output_type": "execute_result"
    }
   ],
   "source": [
    "\n",
    "read_df.isna().sum()"
   ]
  },
  {
   "cell_type": "code",
   "execution_count": 63,
   "metadata": {},
   "outputs": [
    {
     "name": "stdout",
     "output_type": "stream",
     "text": [
      "NaN values are dropped in orignal dataset too\n"
     ]
    }
   ],
   "source": [
    "read_df.dropna(inplace=True)\n",
    "print(\"NaN values are dropped in orignal dataset too\")\n"
   ]
  },
  {
   "cell_type": "code",
   "execution_count": 64,
   "metadata": {},
   "outputs": [
    {
     "name": "stderr",
     "output_type": "stream",
     "text": [
      "C:\\Users\\rajpu\\AppData\\Local\\Temp\\ipykernel_30992\\4219372018.py:1: FutureWarning: A value is trying to be set on a copy of a DataFrame or Series through chained assignment using an inplace method.\n",
      "The behavior will change in pandas 3.0. This inplace method will never work because the intermediate object on which we are setting values always behaves as a copy.\n",
      "\n",
      "For example, when doing 'df[col].method(value, inplace=True)', try using 'df.method({col: value}, inplace=True)' or df[col] = df[col].method(value) instead, to perform the operation inplace on the original object.\n",
      "\n",
      "\n",
      "  read_df['City'].fillna(read_df['City'].mode()[0], inplace=True)\n"
     ]
    },
    {
     "data": {
      "text/html": [
       "<div>\n",
       "<style scoped>\n",
       "    .dataframe tbody tr th:only-of-type {\n",
       "        vertical-align: middle;\n",
       "    }\n",
       "\n",
       "    .dataframe tbody tr th {\n",
       "        vertical-align: top;\n",
       "    }\n",
       "\n",
       "    .dataframe thead th {\n",
       "        text-align: right;\n",
       "    }\n",
       "</style>\n",
       "<table border=\"1\" class=\"dataframe\">\n",
       "  <thead>\n",
       "    <tr style=\"text-align: right;\">\n",
       "      <th></th>\n",
       "      <th>Names</th>\n",
       "      <th>City</th>\n",
       "    </tr>\n",
       "  </thead>\n",
       "  <tbody>\n",
       "    <tr>\n",
       "      <th>0</th>\n",
       "      <td>rohit</td>\n",
       "      <td>Kolhapur</td>\n",
       "    </tr>\n",
       "    <tr>\n",
       "      <th>1</th>\n",
       "      <td>raj</td>\n",
       "      <td>Kolhapur</td>\n",
       "    </tr>\n",
       "    <tr>\n",
       "      <th>2</th>\n",
       "      <td>neha</td>\n",
       "      <td>Kolhapur</td>\n",
       "    </tr>\n",
       "    <tr>\n",
       "      <th>3</th>\n",
       "      <td>om</td>\n",
       "      <td>Satara</td>\n",
       "    </tr>\n",
       "    <tr>\n",
       "      <th>4</th>\n",
       "      <td>tejas</td>\n",
       "      <td>sangli</td>\n",
       "    </tr>\n",
       "    <tr>\n",
       "      <th>5</th>\n",
       "      <td>mohit</td>\n",
       "      <td>Pune</td>\n",
       "    </tr>\n",
       "  </tbody>\n",
       "</table>\n",
       "</div>"
      ],
      "text/plain": [
       "   Names      City\n",
       "0  rohit  Kolhapur\n",
       "1    raj  Kolhapur\n",
       "2   neha  Kolhapur\n",
       "3     om    Satara\n",
       "4  tejas    sangli\n",
       "5  mohit      Pune"
      ]
     },
     "execution_count": 64,
     "metadata": {},
     "output_type": "execute_result"
    }
   ],
   "source": [
    "read_df['City'].fillna(read_df['City'].mode()[0], inplace=True)\n",
    "read_df"
   ]
  },
  {
   "cell_type": "code",
   "execution_count": 65,
   "metadata": {},
   "outputs": [
    {
     "data": {
      "text/html": [
       "<div>\n",
       "<style scoped>\n",
       "    .dataframe tbody tr th:only-of-type {\n",
       "        vertical-align: middle;\n",
       "    }\n",
       "\n",
       "    .dataframe tbody tr th {\n",
       "        vertical-align: top;\n",
       "    }\n",
       "\n",
       "    .dataframe thead th {\n",
       "        text-align: right;\n",
       "    }\n",
       "</style>\n",
       "<table border=\"1\" class=\"dataframe\">\n",
       "  <thead>\n",
       "    <tr style=\"text-align: right;\">\n",
       "      <th></th>\n",
       "      <th>Names</th>\n",
       "      <th>City</th>\n",
       "    </tr>\n",
       "  </thead>\n",
       "  <tbody>\n",
       "    <tr>\n",
       "      <th>0</th>\n",
       "      <td>om desai</td>\n",
       "      <td>Kolhapur</td>\n",
       "    </tr>\n",
       "    <tr>\n",
       "      <th>1</th>\n",
       "      <td>raj</td>\n",
       "      <td>Kolhapur</td>\n",
       "    </tr>\n",
       "    <tr>\n",
       "      <th>2</th>\n",
       "      <td>neha</td>\n",
       "      <td>Kolhapur</td>\n",
       "    </tr>\n",
       "    <tr>\n",
       "      <th>3</th>\n",
       "      <td>om</td>\n",
       "      <td>Satara</td>\n",
       "    </tr>\n",
       "    <tr>\n",
       "      <th>4</th>\n",
       "      <td>tejas</td>\n",
       "      <td>sangli</td>\n",
       "    </tr>\n",
       "    <tr>\n",
       "      <th>5</th>\n",
       "      <td>mohit</td>\n",
       "      <td>Pune</td>\n",
       "    </tr>\n",
       "  </tbody>\n",
       "</table>\n",
       "</div>"
      ],
      "text/plain": [
       "      Names      City\n",
       "0  om desai  Kolhapur\n",
       "1       raj  Kolhapur\n",
       "2      neha  Kolhapur\n",
       "3        om    Satara\n",
       "4     tejas    sangli\n",
       "5     mohit      Pune"
      ]
     },
     "execution_count": 65,
     "metadata": {},
     "output_type": "execute_result"
    }
   ],
   "source": [
    "read_df.iloc[0,0] = \"om desai\"\n",
    "read_df"
   ]
  },
  {
   "cell_type": "code",
   "execution_count": 66,
   "metadata": {},
   "outputs": [
    {
     "name": "stdout",
     "output_type": "stream",
     "text": [
      "File Saved successfully\n"
     ]
    },
    {
     "data": {
      "text/html": [
       "<div>\n",
       "<style scoped>\n",
       "    .dataframe tbody tr th:only-of-type {\n",
       "        vertical-align: middle;\n",
       "    }\n",
       "\n",
       "    .dataframe tbody tr th {\n",
       "        vertical-align: top;\n",
       "    }\n",
       "\n",
       "    .dataframe thead th {\n",
       "        text-align: right;\n",
       "    }\n",
       "</style>\n",
       "<table border=\"1\" class=\"dataframe\">\n",
       "  <thead>\n",
       "    <tr style=\"text-align: right;\">\n",
       "      <th></th>\n",
       "      <th>Names</th>\n",
       "      <th>City</th>\n",
       "    </tr>\n",
       "  </thead>\n",
       "  <tbody>\n",
       "    <tr>\n",
       "      <th>0</th>\n",
       "      <td>om desai</td>\n",
       "      <td>Kolhapur</td>\n",
       "    </tr>\n",
       "    <tr>\n",
       "      <th>1</th>\n",
       "      <td>tejas patil</td>\n",
       "      <td>Kolhapur</td>\n",
       "    </tr>\n",
       "    <tr>\n",
       "      <th>2</th>\n",
       "      <td>neha</td>\n",
       "      <td>Kolhapur</td>\n",
       "    </tr>\n",
       "    <tr>\n",
       "      <th>3</th>\n",
       "      <td>om</td>\n",
       "      <td>Satara</td>\n",
       "    </tr>\n",
       "    <tr>\n",
       "      <th>4</th>\n",
       "      <td>tejas</td>\n",
       "      <td>sangli</td>\n",
       "    </tr>\n",
       "    <tr>\n",
       "      <th>5</th>\n",
       "      <td>mohit</td>\n",
       "      <td>Pune</td>\n",
       "    </tr>\n",
       "  </tbody>\n",
       "</table>\n",
       "</div>"
      ],
      "text/plain": [
       "         Names      City\n",
       "0     om desai  Kolhapur\n",
       "1  tejas patil  Kolhapur\n",
       "2         neha  Kolhapur\n",
       "3           om    Satara\n",
       "4        tejas    sangli\n",
       "5        mohit      Pune"
      ]
     },
     "execution_count": 66,
     "metadata": {},
     "output_type": "execute_result"
    }
   ],
   "source": [
    "read_df.loc[1, 'Names'] = 'tejas patil'\n",
    "\n",
    "# saving updated dataframe into file\n",
    "read_df.to_csv('StudetInfo.csv',index=False)\n",
    "print(\"File Saved successfully\")\n",
    "read_df"
   ]
  },
  {
   "cell_type": "code",
   "execution_count": 67,
   "metadata": {},
   "outputs": [
    {
     "data": {
      "text/html": [
       "<div>\n",
       "<style scoped>\n",
       "    .dataframe tbody tr th:only-of-type {\n",
       "        vertical-align: middle;\n",
       "    }\n",
       "\n",
       "    .dataframe tbody tr th {\n",
       "        vertical-align: top;\n",
       "    }\n",
       "\n",
       "    .dataframe thead th {\n",
       "        text-align: right;\n",
       "    }\n",
       "</style>\n",
       "<table border=\"1\" class=\"dataframe\">\n",
       "  <thead>\n",
       "    <tr style=\"text-align: right;\">\n",
       "      <th></th>\n",
       "      <th>Names</th>\n",
       "      <th>City</th>\n",
       "    </tr>\n",
       "  </thead>\n",
       "  <tbody>\n",
       "    <tr>\n",
       "      <th>0</th>\n",
       "      <td>om desai</td>\n",
       "      <td>Kolhapur</td>\n",
       "    </tr>\n",
       "    <tr>\n",
       "      <th>1</th>\n",
       "      <td>tejas patil</td>\n",
       "      <td>Kolhapur</td>\n",
       "    </tr>\n",
       "    <tr>\n",
       "      <th>2</th>\n",
       "      <td>neha</td>\n",
       "      <td>Kolhapur</td>\n",
       "    </tr>\n",
       "    <tr>\n",
       "      <th>3</th>\n",
       "      <td>om</td>\n",
       "      <td>Satara</td>\n",
       "    </tr>\n",
       "    <tr>\n",
       "      <th>4</th>\n",
       "      <td>tejas</td>\n",
       "      <td>sangli</td>\n",
       "    </tr>\n",
       "    <tr>\n",
       "      <th>5</th>\n",
       "      <td>mohit</td>\n",
       "      <td>Pune</td>\n",
       "    </tr>\n",
       "  </tbody>\n",
       "</table>\n",
       "</div>"
      ],
      "text/plain": [
       "         Names      City\n",
       "0     om desai  Kolhapur\n",
       "1  tejas patil  Kolhapur\n",
       "2         neha  Kolhapur\n",
       "3           om    Satara\n",
       "4        tejas    sangli\n",
       "5        mohit      Pune"
      ]
     },
     "execution_count": 67,
     "metadata": {},
     "output_type": "execute_result"
    }
   ],
   "source": [
    "\n",
    "# Copy of old dataframe\n",
    "\n",
    "new_df = read_df.copy()\n",
    "new_df"
   ]
  },
  {
   "cell_type": "code",
   "execution_count": 68,
   "metadata": {},
   "outputs": [
    {
     "data": {
      "text/plain": [
       "array([['om desai', 'Kolhapur'],\n",
       "       ['tejas patil', 'Kolhapur'],\n",
       "       ['neha', 'Kolhapur'],\n",
       "       ['om', 'Satara'],\n",
       "       ['tejas', 'sangli'],\n",
       "       ['mohit', 'Pune']], dtype=object)"
      ]
     },
     "execution_count": 68,
     "metadata": {},
     "output_type": "execute_result"
    }
   ],
   "source": [
    "\n",
    "# DataFrame to Numpy array\n",
    "new_df.to_numpy()"
   ]
  },
  {
   "cell_type": "code",
   "execution_count": 69,
   "metadata": {},
   "outputs": [],
   "source": [
    "read_df.drop([2,2],inplace=True)"
   ]
  },
  {
   "cell_type": "code",
   "execution_count": 70,
   "metadata": {},
   "outputs": [
    {
     "data": {
      "text/html": [
       "<div>\n",
       "<style scoped>\n",
       "    .dataframe tbody tr th:only-of-type {\n",
       "        vertical-align: middle;\n",
       "    }\n",
       "\n",
       "    .dataframe tbody tr th {\n",
       "        vertical-align: top;\n",
       "    }\n",
       "\n",
       "    .dataframe thead th {\n",
       "        text-align: right;\n",
       "    }\n",
       "</style>\n",
       "<table border=\"1\" class=\"dataframe\">\n",
       "  <thead>\n",
       "    <tr style=\"text-align: right;\">\n",
       "      <th></th>\n",
       "      <th>Names</th>\n",
       "      <th>City</th>\n",
       "    </tr>\n",
       "  </thead>\n",
       "  <tbody>\n",
       "    <tr>\n",
       "      <th>5</th>\n",
       "      <td>mohit</td>\n",
       "      <td>Pune</td>\n",
       "    </tr>\n",
       "    <tr>\n",
       "      <th>4</th>\n",
       "      <td>tejas</td>\n",
       "      <td>sangli</td>\n",
       "    </tr>\n",
       "    <tr>\n",
       "      <th>3</th>\n",
       "      <td>om</td>\n",
       "      <td>Satara</td>\n",
       "    </tr>\n",
       "    <tr>\n",
       "      <th>1</th>\n",
       "      <td>tejas patil</td>\n",
       "      <td>Kolhapur</td>\n",
       "    </tr>\n",
       "    <tr>\n",
       "      <th>0</th>\n",
       "      <td>om desai</td>\n",
       "      <td>Kolhapur</td>\n",
       "    </tr>\n",
       "  </tbody>\n",
       "</table>\n",
       "</div>"
      ],
      "text/plain": [
       "         Names      City\n",
       "5        mohit      Pune\n",
       "4        tejas    sangli\n",
       "3           om    Satara\n",
       "1  tejas patil  Kolhapur\n",
       "0     om desai  Kolhapur"
      ]
     },
     "execution_count": 70,
     "metadata": {},
     "output_type": "execute_result"
    }
   ],
   "source": [
    "\n",
    "# sort via index\n",
    "\n",
    "read_df.sort_index(axis=0,ascending=False)"
   ]
  },
  {
   "cell_type": "code",
   "execution_count": 71,
   "metadata": {},
   "outputs": [
    {
     "data": {
      "text/html": [
       "<div>\n",
       "<style scoped>\n",
       "    .dataframe tbody tr th:only-of-type {\n",
       "        vertical-align: middle;\n",
       "    }\n",
       "\n",
       "    .dataframe tbody tr th {\n",
       "        vertical-align: top;\n",
       "    }\n",
       "\n",
       "    .dataframe thead th {\n",
       "        text-align: right;\n",
       "    }\n",
       "</style>\n",
       "<table border=\"1\" class=\"dataframe\">\n",
       "  <thead>\n",
       "    <tr style=\"text-align: right;\">\n",
       "      <th></th>\n",
       "      <th>City</th>\n",
       "      <th>Names</th>\n",
       "    </tr>\n",
       "  </thead>\n",
       "  <tbody>\n",
       "    <tr>\n",
       "      <th>0</th>\n",
       "      <td>Kolhapur</td>\n",
       "      <td>om desai</td>\n",
       "    </tr>\n",
       "    <tr>\n",
       "      <th>1</th>\n",
       "      <td>Kolhapur</td>\n",
       "      <td>tejas patil</td>\n",
       "    </tr>\n",
       "    <tr>\n",
       "      <th>3</th>\n",
       "      <td>Satara</td>\n",
       "      <td>om</td>\n",
       "    </tr>\n",
       "    <tr>\n",
       "      <th>4</th>\n",
       "      <td>sangli</td>\n",
       "      <td>tejas</td>\n",
       "    </tr>\n",
       "    <tr>\n",
       "      <th>5</th>\n",
       "      <td>Pune</td>\n",
       "      <td>mohit</td>\n",
       "    </tr>\n",
       "  </tbody>\n",
       "</table>\n",
       "</div>"
      ],
      "text/plain": [
       "       City        Names\n",
       "0  Kolhapur     om desai\n",
       "1  Kolhapur  tejas patil\n",
       "3    Satara           om\n",
       "4    sangli        tejas\n",
       "5      Pune        mohit"
      ]
     },
     "execution_count": 71,
     "metadata": {},
     "output_type": "execute_result"
    }
   ],
   "source": [
    "# sort via columns\n",
    "read_df.sort_index(axis = 1,ascending=True)"
   ]
  },
  {
   "cell_type": "code",
   "execution_count": 72,
   "metadata": {},
   "outputs": [
    {
     "data": {
      "text/html": [
       "<div>\n",
       "<style scoped>\n",
       "    .dataframe tbody tr th:only-of-type {\n",
       "        vertical-align: middle;\n",
       "    }\n",
       "\n",
       "    .dataframe tbody tr th {\n",
       "        vertical-align: top;\n",
       "    }\n",
       "\n",
       "    .dataframe thead th {\n",
       "        text-align: right;\n",
       "    }\n",
       "</style>\n",
       "<table border=\"1\" class=\"dataframe\">\n",
       "  <thead>\n",
       "    <tr style=\"text-align: right;\">\n",
       "      <th></th>\n",
       "      <th>Names</th>\n",
       "      <th>City</th>\n",
       "    </tr>\n",
       "  </thead>\n",
       "  <tbody>\n",
       "    <tr>\n",
       "      <th>5</th>\n",
       "      <td>mohit</td>\n",
       "      <td>Pune</td>\n",
       "    </tr>\n",
       "    <tr>\n",
       "      <th>3</th>\n",
       "      <td>om</td>\n",
       "      <td>Satara</td>\n",
       "    </tr>\n",
       "    <tr>\n",
       "      <th>0</th>\n",
       "      <td>om desai</td>\n",
       "      <td>Kolhapur</td>\n",
       "    </tr>\n",
       "    <tr>\n",
       "      <th>4</th>\n",
       "      <td>tejas</td>\n",
       "      <td>sangli</td>\n",
       "    </tr>\n",
       "    <tr>\n",
       "      <th>1</th>\n",
       "      <td>tejas patil</td>\n",
       "      <td>Kolhapur</td>\n",
       "    </tr>\n",
       "  </tbody>\n",
       "</table>\n",
       "</div>"
      ],
      "text/plain": [
       "         Names      City\n",
       "5        mohit      Pune\n",
       "3           om    Satara\n",
       "0     om desai  Kolhapur\n",
       "4        tejas    sangli\n",
       "1  tejas patil  Kolhapur"
      ]
     },
     "execution_count": 72,
     "metadata": {},
     "output_type": "execute_result"
    }
   ],
   "source": [
    "read_df.sort_values(by=['Names'],ascending=True,na_position='last')"
   ]
  },
  {
   "cell_type": "code",
   "execution_count": 73,
   "metadata": {},
   "outputs": [
    {
     "data": {
      "text/html": [
       "<div>\n",
       "<style scoped>\n",
       "    .dataframe tbody tr th:only-of-type {\n",
       "        vertical-align: middle;\n",
       "    }\n",
       "\n",
       "    .dataframe tbody tr th {\n",
       "        vertical-align: top;\n",
       "    }\n",
       "\n",
       "    .dataframe thead th {\n",
       "        text-align: right;\n",
       "    }\n",
       "</style>\n",
       "<table border=\"1\" class=\"dataframe\">\n",
       "  <thead>\n",
       "    <tr style=\"text-align: right;\">\n",
       "      <th></th>\n",
       "      <th>Names</th>\n",
       "      <th>City</th>\n",
       "    </tr>\n",
       "  </thead>\n",
       "  <tbody>\n",
       "    <tr>\n",
       "      <th>0</th>\n",
       "      <td>om desai</td>\n",
       "      <td>Kolhapur</td>\n",
       "    </tr>\n",
       "    <tr>\n",
       "      <th>1</th>\n",
       "      <td>tejas patil</td>\n",
       "      <td>Kolhapur</td>\n",
       "    </tr>\n",
       "    <tr>\n",
       "      <th>2</th>\n",
       "      <td>om</td>\n",
       "      <td>Satara</td>\n",
       "    </tr>\n",
       "    <tr>\n",
       "      <th>3</th>\n",
       "      <td>tejas</td>\n",
       "      <td>sangli</td>\n",
       "    </tr>\n",
       "    <tr>\n",
       "      <th>4</th>\n",
       "      <td>mohit</td>\n",
       "      <td>Pune</td>\n",
       "    </tr>\n",
       "  </tbody>\n",
       "</table>\n",
       "</div>"
      ],
      "text/plain": [
       "         Names      City\n",
       "0     om desai  Kolhapur\n",
       "1  tejas patil  Kolhapur\n",
       "2           om    Satara\n",
       "3        tejas    sangli\n",
       "4        mohit      Pune"
      ]
     },
     "execution_count": 73,
     "metadata": {},
     "output_type": "execute_result"
    }
   ],
   "source": [
    "read_df.reset_index(drop = True, inplace=True)\n",
    "read_df"
   ]
  },
  {
   "cell_type": "code",
   "execution_count": 74,
   "metadata": {},
   "outputs": [
    {
     "name": "stdout",
     "output_type": "stream",
     "text": [
      "\n",
      "Datatype is:\n",
      " Names    object\n",
      "City     object\n",
      "dtype: object\n"
     ]
    }
   ],
   "source": [
    "print(\"\\nDatatype is:\\n\",read_df.dtypes)"
   ]
  },
  {
   "cell_type": "code",
   "execution_count": 75,
   "metadata": {},
   "outputs": [
    {
     "data": {
      "text/plain": [
       "RangeIndex(start=0, stop=5, step=1)"
      ]
     },
     "execution_count": 75,
     "metadata": {},
     "output_type": "execute_result"
    }
   ],
   "source": [
    "read_df.index"
   ]
  },
  {
   "cell_type": "code",
   "execution_count": 76,
   "metadata": {},
   "outputs": [
    {
     "data": {
      "text/plain": [
       "Index(['Names', 'City'], dtype='object')"
      ]
     },
     "execution_count": 76,
     "metadata": {},
     "output_type": "execute_result"
    }
   ],
   "source": [
    "\n",
    "read_df.columns"
   ]
  },
  {
   "cell_type": "code",
   "execution_count": 77,
   "metadata": {},
   "outputs": [
    {
     "data": {
      "text/html": [
       "<div>\n",
       "<style scoped>\n",
       "    .dataframe tbody tr th:only-of-type {\n",
       "        vertical-align: middle;\n",
       "    }\n",
       "\n",
       "    .dataframe tbody tr th {\n",
       "        vertical-align: top;\n",
       "    }\n",
       "\n",
       "    .dataframe thead th {\n",
       "        text-align: right;\n",
       "    }\n",
       "</style>\n",
       "<table border=\"1\" class=\"dataframe\">\n",
       "  <thead>\n",
       "    <tr style=\"text-align: right;\">\n",
       "      <th></th>\n",
       "      <th>0</th>\n",
       "      <th>1</th>\n",
       "      <th>2</th>\n",
       "      <th>3</th>\n",
       "      <th>4</th>\n",
       "    </tr>\n",
       "  </thead>\n",
       "  <tbody>\n",
       "    <tr>\n",
       "      <th>Names</th>\n",
       "      <td>om desai</td>\n",
       "      <td>tejas patil</td>\n",
       "      <td>om</td>\n",
       "      <td>tejas</td>\n",
       "      <td>mohit</td>\n",
       "    </tr>\n",
       "    <tr>\n",
       "      <th>City</th>\n",
       "      <td>Kolhapur</td>\n",
       "      <td>Kolhapur</td>\n",
       "      <td>Satara</td>\n",
       "      <td>sangli</td>\n",
       "      <td>Pune</td>\n",
       "    </tr>\n",
       "  </tbody>\n",
       "</table>\n",
       "</div>"
      ],
      "text/plain": [
       "              0            1       2       3      4\n",
       "Names  om desai  tejas patil      om   tejas  mohit\n",
       "City   Kolhapur     Kolhapur  Satara  sangli   Pune"
      ]
     },
     "execution_count": 77,
     "metadata": {},
     "output_type": "execute_result"
    }
   ],
   "source": [
    "# Transpose\n",
    "read_df.T"
   ]
  },
  {
   "cell_type": "markdown",
   "metadata": {},
   "source": [
    "Data Visualization"
   ]
  },
  {
   "cell_type": "code",
   "execution_count": 80,
   "metadata": {},
   "outputs": [],
   "source": [
    "import matplotlib.pyplot as plt\n",
    "import seaborn as sns\n",
    "import pandas as pd\n",
    "import numpy as np"
   ]
  },
  {
   "cell_type": "code",
   "execution_count": 79,
   "metadata": {},
   "outputs": [
    {
     "name": "stdout",
     "output_type": "stream",
     "text": [
      "Collecting seaborn\n",
      "  Obtaining dependency information for seaborn from https://files.pythonhosted.org/packages/83/11/00d3c3dfc25ad54e731d91449895a79e4bf2384dc3ac01809010ba88f6d5/seaborn-0.13.2-py3-none-any.whl.metadata\n",
      "  Using cached seaborn-0.13.2-py3-none-any.whl.metadata (5.4 kB)\n",
      "Requirement already satisfied: numpy!=1.24.0,>=1.20 in c:\\users\\rajpu\\appdata\\local\\programs\\python\\python312\\lib\\site-packages (from seaborn) (1.26.4)\n",
      "Requirement already satisfied: pandas>=1.2 in c:\\users\\rajpu\\appdata\\local\\programs\\python\\python312\\lib\\site-packages (from seaborn) (2.2.2)\n",
      "Requirement already satisfied: matplotlib!=3.6.1,>=3.4 in c:\\users\\rajpu\\appdata\\local\\programs\\python\\python312\\lib\\site-packages (from seaborn) (3.10.0)\n",
      "Requirement already satisfied: contourpy>=1.0.1 in c:\\users\\rajpu\\appdata\\local\\programs\\python\\python312\\lib\\site-packages (from matplotlib!=3.6.1,>=3.4->seaborn) (1.3.1)\n",
      "Requirement already satisfied: cycler>=0.10 in c:\\users\\rajpu\\appdata\\local\\programs\\python\\python312\\lib\\site-packages (from matplotlib!=3.6.1,>=3.4->seaborn) (0.12.1)\n",
      "Requirement already satisfied: fonttools>=4.22.0 in c:\\users\\rajpu\\appdata\\local\\programs\\python\\python312\\lib\\site-packages (from matplotlib!=3.6.1,>=3.4->seaborn) (4.55.3)\n",
      "Requirement already satisfied: kiwisolver>=1.3.1 in c:\\users\\rajpu\\appdata\\local\\programs\\python\\python312\\lib\\site-packages (from matplotlib!=3.6.1,>=3.4->seaborn) (1.4.7)\n",
      "Requirement already satisfied: packaging>=20.0 in c:\\users\\rajpu\\appdata\\local\\programs\\python\\python312\\lib\\site-packages (from matplotlib!=3.6.1,>=3.4->seaborn) (24.2)\n",
      "Requirement already satisfied: pillow>=8 in c:\\users\\rajpu\\appdata\\local\\programs\\python\\python312\\lib\\site-packages (from matplotlib!=3.6.1,>=3.4->seaborn) (11.0.0)\n",
      "Requirement already satisfied: pyparsing>=2.3.1 in c:\\users\\rajpu\\appdata\\local\\programs\\python\\python312\\lib\\site-packages (from matplotlib!=3.6.1,>=3.4->seaborn) (3.2.0)\n",
      "Requirement already satisfied: python-dateutil>=2.7 in c:\\users\\rajpu\\appdata\\local\\programs\\python\\python312\\lib\\site-packages (from matplotlib!=3.6.1,>=3.4->seaborn) (2.9.0.post0)\n",
      "Requirement already satisfied: pytz>=2020.1 in c:\\users\\rajpu\\appdata\\local\\programs\\python\\python312\\lib\\site-packages (from pandas>=1.2->seaborn) (2024.1)\n",
      "Requirement already satisfied: tzdata>=2022.7 in c:\\users\\rajpu\\appdata\\local\\programs\\python\\python312\\lib\\site-packages (from pandas>=1.2->seaborn) (2024.1)\n",
      "Requirement already satisfied: six>=1.5 in c:\\users\\rajpu\\appdata\\local\\programs\\python\\python312\\lib\\site-packages (from python-dateutil>=2.7->matplotlib!=3.6.1,>=3.4->seaborn) (1.16.0)\n",
      "Using cached seaborn-0.13.2-py3-none-any.whl (294 kB)\n",
      "Installing collected packages: seaborn\n",
      "Successfully installed seaborn-0.13.2\n",
      "Note: you may need to restart the kernel to use updated packages.\n"
     ]
    },
    {
     "name": "stderr",
     "output_type": "stream",
     "text": [
      "\n",
      "[notice] A new release of pip is available: 23.2.1 -> 25.0.1\n",
      "[notice] To update, run: python.exe -m pip install --upgrade pip\n"
     ]
    }
   ],
   "source": [
    "pip install seaborn"
   ]
  },
  {
   "cell_type": "code",
   "execution_count": 81,
   "metadata": {},
   "outputs": [
    {
     "data": {
      "image/png": "[encoded data removed]",
      "text/plain": [
       "<Figure size 800x600 with 1 Axes>"
      ]
     },
     "metadata": {},
     "output_type": "display_data"
    },
    {
     "data": {
      "image/png": "[encoded data removed]",
      "text/plain": [
       "<Figure size 800x600 with 1 Axes>"
      ]
     },
     "metadata": {},
     "output_type": "display_data"
    },
    {
     "data": {
      "image/png": "[encoded data removed]",
      "text/plain": [
       "<Figure size 800x600 with 1 Axes>"
      ]
     },
     "metadata": {},
     "output_type": "display_data"
    },
    {
     "data": {
      "image/png": "[encoded data removed]",
      "text/plain": [
       "<Figure size 800x600 with 1 Axes>"
      ]
     },
     "metadata": {},
     "output_type": "display_data"
    },
    {
     "data": {
      "image/png": "[encoded data removed]",
      "text/plain": [
       "<Figure size 800x600 with 1 Axes>"
      ]
     },
     "metadata": {},
     "output_type": "display_data"
    },
    {
     "data": {
      "image/png": "[encoded data removed]",
      "text/plain": [
       "<Figure size 576.097x500 with 6 Axes>"
      ]
     },
     "metadata": {},
     "output_type": "display_data"
    },
    {
     "data": {
      "image/png": "[encoded data removed]",
      "text/plain": [
       "<Figure size 800x600 with 1 Axes>"
      ]
     },
     "metadata": {},
     "output_type": "display_data"
    }
   ],
   "source": [
    "# Sample data\n",
    "data = {\n",
    "    'x': [1, 2, 3, 4, 5],\n",
    "    'y': [5, 4, 3, 2, 1],\n",
    "    'category': ['A', 'B', 'A', 'B', 'A']\n",
    "}\n",
    "df = pd.DataFrame(data)\n",
    "\n",
    "# Set the theme\n",
    "sns.set_theme(style=\"whitegrid\")\n",
    "\n",
    "# Scatter plot\n",
    "plt.figure(figsize=(8, 6))\n",
    "sns.scatterplot(data=df, x='x', y='y', hue='category')\n",
    "plt.title('Scatter Plot')\n",
    "plt.show()\n",
    "\n",
    "# Line plot\n",
    "plt.figure(figsize=(8, 6))\n",
    "sns.lineplot(data=df, x='x', y='y', hue='category')\n",
    "plt.title('Line Plot')\n",
    "plt.show()\n",
    "\n",
    "# Bar plot\n",
    "plt.figure(figsize=(8, 6))\n",
    "sns.barplot(data=df, x='category', y='y')\n",
    "plt.title('Bar Plot')\n",
    "plt.show()\n",
    "\n",
    "# Histogram\n",
    "plt.figure(figsize=(8, 6))\n",
    "sns.histplot(data=df, x='y', bins=5)\n",
    "plt.title('Histogram')\n",
    "plt.show()\n",
    "\n",
    "# Box plot\n",
    "plt.figure(figsize=(8, 6))\n",
    "sns.boxplot(data=df, x='category', y='y')\n",
    "plt.title('Box Plot')\n",
    "plt.show()\n",
    "\n",
    "\n",
    "# Pair plot\n",
    "sns.pairplot(df, hue='category')\n",
    "plt.title('Pair Plot')\n",
    "plt.show()\n",
    "\n",
    "# Count plot\n",
    "plt.figure(figsize=(8, 6))\n",
    "sns.countplot(data=df, x='category')\n",
    "plt.title('Count Plot')\n",
    "plt.show()\n",
    "\n"
   ]
  },
  {
   "cell_type": "code",
   "execution_count": null,
   "metadata": {},
   "outputs": [],
   "source": []
  }
 ],
 "metadata": {
  "kernelspec": {
   "display_name": "Python 3",
   "language": "python",
   "name": "python3"
  },
  "language_info": {
   "codemirror_mode": {
    "name": "ipython",
    "version": 3
   },
   "file_extension": ".py",
   "mimetype": "text/x-python",
   "name": "python",
   "nbconvert_exporter": "python",
   "pygments_lexer": "ipython3",
   "version": "3.12.1"
  }
 },
 "nbformat": 4,
 "nbformat_minor": 2
}
